{
 "cells": [
  {
   "cell_type": "markdown",
   "metadata": {
    "colab_type": "text",
    "id": "DdJpGPWUVRxF"
   },
   "source": [
    "# Mentoria Evolution - Python para Data Science"
   ]
  },
  {
   "cell_type": "code",
   "execution_count": 0,
   "metadata": {
    "colab": {},
    "colab_type": "code",
    "id": "zkPp7LWDVSu1"
   },
   "outputs": [],
   "source": []
  },
  {
   "cell_type": "markdown",
   "metadata": {
    "colab_type": "text",
    "id": "Vrk_heYSVRxG"
   },
   "source": [
    "https://minerandodados.com.br"
   ]
  },
  {
   "cell_type": "markdown",
   "metadata": {
    "colab_type": "text",
    "id": "IbaV96awVRxH"
   },
   "source": [
    "* Para executar uma célula digite **Control + enter** ou clique em **Run**.\n",
    "* As celulas para rodar script Python devem ser do tipo code.\n",
    "* As celular aceitam comandos python e já executam um \"print\" automáticamente."
   ]
  },
  {
   "cell_type": "markdown",
   "metadata": {
    "colab_type": "text",
    "id": "tohYGIOVVRxI"
   },
   "source": [
    "## Mentoria Evolution - Aula 2"
   ]
  },
  {
   "cell_type": "markdown",
   "metadata": {
    "colab_type": "text",
    "id": "_LrToUHUVRxJ"
   },
   "source": [
    "### Estruturas de Dados - Listas ###"
   ]
  },
  {
   "cell_type": "markdown",
   "metadata": {
    "colab_type": "text",
    "id": "LGAPAzBmVRxK"
   },
   "source": [
    "** Sintaxe: nome = [elementos] **"
   ]
  },
  {
   "cell_type": "code",
   "execution_count": 1,
   "metadata": {
    "colab": {},
    "colab_type": "code",
    "id": "k7hXeGpbVRxL"
   },
   "outputs": [],
   "source": [
    "idades = [25,38,18,47]"
   ]
  },
  {
   "cell_type": "code",
   "execution_count": 2,
   "metadata": {
    "colab": {},
    "colab_type": "code",
    "id": "F72dCeiiVRxP"
   },
   "outputs": [
    {
     "data": {
      "text/plain": [
       "list"
      ]
     },
     "execution_count": 2,
     "metadata": {},
     "output_type": "execute_result"
    }
   ],
   "source": [
    "type(idades)"
   ]
  },
  {
   "cell_type": "code",
   "execution_count": 4,
   "metadata": {
    "colab": {},
    "colab_type": "code",
    "id": "bE4vQpH7VRxU"
   },
   "outputs": [],
   "source": [
    "endereco = ['Rua dos Fulanos, Belo Horizonte.',2500]"
   ]
  },
  {
   "cell_type": "code",
   "execution_count": 5,
   "metadata": {
    "colab": {},
    "colab_type": "code",
    "id": "cgKX628qVRxX"
   },
   "outputs": [
    {
     "data": {
      "text/plain": [
       "['Rua dos Fulanos, Belo Horizonte.', 2500]"
      ]
     },
     "execution_count": 5,
     "metadata": {},
     "output_type": "execute_result"
    }
   ],
   "source": [
    "endereco"
   ]
  },
  {
   "cell_type": "markdown",
   "metadata": {
    "colab_type": "text",
    "id": "IMumEQM4VRxZ"
   },
   "source": [
    "- Acessando elementos"
   ]
  },
  {
   "cell_type": "code",
   "execution_count": 6,
   "metadata": {
    "colab": {},
    "colab_type": "code",
    "id": "KWSq1_8xVRxa"
   },
   "outputs": [],
   "source": [
    "rua  = endereco[0]"
   ]
  },
  {
   "cell_type": "code",
   "execution_count": 7,
   "metadata": {
    "colab": {},
    "colab_type": "code",
    "id": "_Y5W2VBTVRxd"
   },
   "outputs": [
    {
     "data": {
      "text/plain": [
       "'Rua dos Fulanos, Belo Horizonte.'"
      ]
     },
     "execution_count": 7,
     "metadata": {},
     "output_type": "execute_result"
    }
   ],
   "source": [
    "rua"
   ]
  },
  {
   "cell_type": "code",
   "execution_count": 8,
   "metadata": {
    "colab": {},
    "colab_type": "code",
    "id": "OtSGC4U6VRxh"
   },
   "outputs": [],
   "source": [
    "numero  = endereco[1]"
   ]
  },
  {
   "cell_type": "code",
   "execution_count": 9,
   "metadata": {
    "colab": {},
    "colab_type": "code",
    "id": "0lR5D8rOVRxk"
   },
   "outputs": [
    {
     "name": "stdout",
     "output_type": "stream",
     "text": [
      "Rua dos Fulanos, Belo Horizonte. 2500\n"
     ]
    }
   ],
   "source": [
    "print(rua,numero)"
   ]
  },
  {
   "cell_type": "markdown",
   "metadata": {
    "colab_type": "text",
    "id": "yjQZTQX1VRxp"
   },
   "source": [
    "- Atualizando elementos"
   ]
  },
  {
   "cell_type": "code",
   "execution_count": 10,
   "metadata": {
    "colab": {},
    "colab_type": "code",
    "id": "9ogKDsAWVRxq"
   },
   "outputs": [],
   "source": [
    "endereco[1] = 2750"
   ]
  },
  {
   "cell_type": "code",
   "execution_count": 11,
   "metadata": {
    "colab": {},
    "colab_type": "code",
    "id": "EdFcEbYSVRxt"
   },
   "outputs": [
    {
     "data": {
      "text/plain": [
       "['Rua dos Fulanos, Belo Horizonte.', 2750]"
      ]
     },
     "execution_count": 11,
     "metadata": {},
     "output_type": "execute_result"
    }
   ],
   "source": [
    "endereco"
   ]
  },
  {
   "cell_type": "code",
   "execution_count": 12,
   "metadata": {
    "colab": {},
    "colab_type": "code",
    "id": "CCsqK3NSVRxx"
   },
   "outputs": [
    {
     "name": "stdout",
     "output_type": "stream",
     "text": [
      "Rua dos Fulanos, Belo Horizonte. 2750\n"
     ]
    }
   ],
   "source": [
    "endereco[1] = 2750\n",
    "numero  = endereco[1]\n",
    "print(rua,numero)"
   ]
  },
  {
   "cell_type": "markdown",
   "metadata": {
    "colab_type": "text",
    "id": "2DSAgKDnVRx1"
   },
   "source": [
    "- Operações com Listas"
   ]
  },
  {
   "cell_type": "code",
   "execution_count": 13,
   "metadata": {
    "colab": {},
    "colab_type": "code",
    "id": "UI_8FC6RVRx2"
   },
   "outputs": [],
   "source": [
    "nomes = ['Felipe','Joao','Maria']"
   ]
  },
  {
   "cell_type": "code",
   "execution_count": 14,
   "metadata": {
    "colab": {},
    "colab_type": "code",
    "id": "UojbSxygVRx5"
   },
   "outputs": [
    {
     "data": {
      "text/plain": [
       "['Felipe', 'Joao', 'Maria']"
      ]
     },
     "execution_count": 14,
     "metadata": {},
     "output_type": "execute_result"
    }
   ],
   "source": [
    "nomes"
   ]
  },
  {
   "cell_type": "markdown",
   "metadata": {
    "colab_type": "text",
    "id": "cDtxGZBYVRx7"
   },
   "source": [
    "- Contando elementos"
   ]
  },
  {
   "cell_type": "code",
   "execution_count": 15,
   "metadata": {
    "colab": {},
    "colab_type": "code",
    "id": "7KXvD7ctVRx8"
   },
   "outputs": [
    {
     "data": {
      "text/plain": [
       "3"
      ]
     },
     "execution_count": 15,
     "metadata": {},
     "output_type": "execute_result"
    }
   ],
   "source": [
    "len(nomes)"
   ]
  },
  {
   "cell_type": "markdown",
   "metadata": {
    "colab_type": "text",
    "id": "Vy4G0ctSVRx-"
   },
   "source": [
    "- Verificando elementos"
   ]
  },
  {
   "cell_type": "code",
   "execution_count": 16,
   "metadata": {
    "colab": {},
    "colab_type": "code",
    "id": "pvvUtG5GVRx_"
   },
   "outputs": [
    {
     "data": {
      "text/plain": [
       "True"
      ]
     },
     "execution_count": 16,
     "metadata": {},
     "output_type": "execute_result"
    }
   ],
   "source": [
    "'Felipe' in nomes"
   ]
  },
  {
   "cell_type": "markdown",
   "metadata": {
    "colab_type": "text",
    "id": "r106FccHVRyD"
   },
   "source": [
    "- Valores máximo e mínimo"
   ]
  },
  {
   "cell_type": "code",
   "execution_count": 17,
   "metadata": {
    "colab": {},
    "colab_type": "code",
    "id": "0gorkEm_VRyG"
   },
   "outputs": [
    {
     "data": {
      "text/plain": [
       "'Maria'"
      ]
     },
     "execution_count": 17,
     "metadata": {},
     "output_type": "execute_result"
    }
   ],
   "source": [
    "max(nomes)"
   ]
  },
  {
   "cell_type": "code",
   "execution_count": 18,
   "metadata": {
    "colab": {},
    "colab_type": "code",
    "id": "Yg1ruzuhVRyI"
   },
   "outputs": [
    {
     "data": {
      "text/plain": [
       "'Felipe'"
      ]
     },
     "execution_count": 18,
     "metadata": {},
     "output_type": "execute_result"
    }
   ],
   "source": [
    "min(nomes)"
   ]
  },
  {
   "cell_type": "markdown",
   "metadata": {
    "colab_type": "text",
    "id": "PSPfRnBoVRyN"
   },
   "source": [
    "- Concatenando listas"
   ]
  },
  {
   "cell_type": "code",
   "execution_count": 19,
   "metadata": {
    "colab": {},
    "colab_type": "code",
    "id": "wa6sm0SeVRyN"
   },
   "outputs": [
    {
     "data": {
      "text/plain": [
       "['Felipe', 'Joao', 'Maria']"
      ]
     },
     "execution_count": 19,
     "metadata": {},
     "output_type": "execute_result"
    }
   ],
   "source": [
    "nomes"
   ]
  },
  {
   "cell_type": "code",
   "execution_count": 20,
   "metadata": {
    "colab": {},
    "colab_type": "code",
    "id": "nUerrqIYVRyP"
   },
   "outputs": [
    {
     "data": {
      "text/plain": [
       "['Felipe', 'Joao', 'Maria', 'Jose', 'Carla']"
      ]
     },
     "execution_count": 20,
     "metadata": {},
     "output_type": "execute_result"
    }
   ],
   "source": [
    "nomes + ['Jose','Carla']"
   ]
  },
  {
   "cell_type": "code",
   "execution_count": 22,
   "metadata": {
    "colab": {},
    "colab_type": "code",
    "id": "PI86-NfgVRyR"
   },
   "outputs": [],
   "source": [
    "nomes = nomes + ['Jose','Carla']"
   ]
  },
  {
   "cell_type": "code",
   "execution_count": 23,
   "metadata": {
    "colab": {},
    "colab_type": "code",
    "id": "5U9MhJg4VRyT"
   },
   "outputs": [
    {
     "name": "stdout",
     "output_type": "stream",
     "text": [
      "['Felipe', 'Joao', 'Maria', 'Jose', 'Carla', 'Jose', 'Carla']\n"
     ]
    }
   ],
   "source": [
    "print(nomes)"
   ]
  },
  {
   "cell_type": "markdown",
   "metadata": {
    "colab_type": "text",
    "id": "FGMDUfd1VRyV"
   },
   "source": [
    "- Adiciona novos elementos"
   ]
  },
  {
   "cell_type": "code",
   "execution_count": 24,
   "metadata": {
    "colab": {},
    "colab_type": "code",
    "id": "xN2rS6TSVRyW"
   },
   "outputs": [],
   "source": [
    "nomes.append('Marcelo')"
   ]
  },
  {
   "cell_type": "code",
   "execution_count": 25,
   "metadata": {
    "colab": {},
    "colab_type": "code",
    "id": "VJdHw7L_VRyZ"
   },
   "outputs": [
    {
     "data": {
      "text/plain": [
       "['Felipe', 'Joao', 'Maria', 'Jose', 'Carla', 'Jose', 'Carla', 'Marcelo']"
      ]
     },
     "execution_count": 25,
     "metadata": {},
     "output_type": "execute_result"
    }
   ],
   "source": [
    "nomes"
   ]
  },
  {
   "cell_type": "markdown",
   "metadata": {
    "colab_type": "text",
    "id": "gbk2_tjgVRyb"
   },
   "source": [
    "- Índice de um determinado elemento"
   ]
  },
  {
   "cell_type": "code",
   "execution_count": 26,
   "metadata": {
    "colab": {},
    "colab_type": "code",
    "id": "k4yDWCurVRyd"
   },
   "outputs": [
    {
     "data": {
      "text/plain": [
       "1"
      ]
     },
     "execution_count": 26,
     "metadata": {},
     "output_type": "execute_result"
    }
   ],
   "source": [
    "nomes.index('Joao')"
   ]
  },
  {
   "cell_type": "markdown",
   "metadata": {
    "colab_type": "text",
    "id": "516xCXXUVRyf"
   },
   "source": [
    "- Removendo um elemento"
   ]
  },
  {
   "cell_type": "code",
   "execution_count": 27,
   "metadata": {
    "colab": {},
    "colab_type": "code",
    "id": "NjTk9P7zVRyg"
   },
   "outputs": [],
   "source": [
    "nomes.remove('Marcelo')"
   ]
  },
  {
   "cell_type": "code",
   "execution_count": 28,
   "metadata": {
    "colab": {},
    "colab_type": "code",
    "id": "tEFnQnYeVRyj"
   },
   "outputs": [
    {
     "data": {
      "text/plain": [
       "['Felipe', 'Joao', 'Maria', 'Jose', 'Carla', 'Jose', 'Carla']"
      ]
     },
     "execution_count": 28,
     "metadata": {},
     "output_type": "execute_result"
    }
   ],
   "source": [
    "nomes"
   ]
  },
  {
   "cell_type": "markdown",
   "metadata": {
    "colab_type": "text",
    "id": "zE6pVnxmVRyq"
   },
   "source": [
    "- Contando elementos"
   ]
  },
  {
   "cell_type": "code",
   "execution_count": 29,
   "metadata": {
    "colab": {},
    "colab_type": "code",
    "id": "T-b-9i0nVRyq"
   },
   "outputs": [
    {
     "data": {
      "text/plain": [
       "1"
      ]
     },
     "execution_count": 29,
     "metadata": {},
     "output_type": "execute_result"
    }
   ],
   "source": [
    "nomes.count('Joao')"
   ]
  },
  {
   "cell_type": "markdown",
   "metadata": {
    "colab_type": "text",
    "id": "KYvMMDG9VRyu"
   },
   "source": [
    "- Ordenando elementos"
   ]
  },
  {
   "cell_type": "code",
   "execution_count": 31,
   "metadata": {
    "colab": {},
    "colab_type": "code",
    "id": "CFF0Xp14VRyv"
   },
   "outputs": [],
   "source": [
    "nomes.sort(reverse=True)"
   ]
  },
  {
   "cell_type": "code",
   "execution_count": 32,
   "metadata": {
    "colab": {},
    "colab_type": "code",
    "id": "NjRSVlLKVRyx"
   },
   "outputs": [
    {
     "name": "stdout",
     "output_type": "stream",
     "text": [
      "['Maria', 'Jose', 'Jose', 'Joao', 'Felipe', 'Carla', 'Carla']\n"
     ]
    }
   ],
   "source": [
    "print(nomes)"
   ]
  },
  {
   "cell_type": "markdown",
   "metadata": {
    "colab_type": "text",
    "id": "F0xyxC4pVRyz"
   },
   "source": [
    "### Estruturas de Dados - Dicionários ###"
   ]
  },
  {
   "cell_type": "markdown",
   "metadata": {
    "colab_type": "text",
    "id": "29Dd_h0WVRy0"
   },
   "source": [
    "- Objeto do tipo Chave e Valor\n",
    "- Sintaxe: nome = {'chave':'valor'}"
   ]
  },
  {
   "cell_type": "code",
   "execution_count": 67,
   "metadata": {
    "colab": {},
    "colab_type": "code",
    "id": "Pl2sJbgQVRy0"
   },
   "outputs": [],
   "source": [
    "dic = {'nome':'Rodrigo'}"
   ]
  },
  {
   "cell_type": "code",
   "execution_count": 68,
   "metadata": {
    "colab": {},
    "colab_type": "code",
    "id": "0dmaGZIiVRy4"
   },
   "outputs": [],
   "source": [
    "pessoas = {\n",
    "'Felipe':30, 'Fulana':18, 'Maria':55, 'Jose':80, \n",
    "'valores':[1,3.5,400,5,6],\n",
    "'pesos':{'Felipe':68,'Fulana':55}\n",
    "}"
   ]
  },
  {
   "cell_type": "code",
   "execution_count": 38,
   "metadata": {
    "colab": {},
    "colab_type": "code",
    "id": "-CqXrWWcVRy6"
   },
   "outputs": [
    {
     "data": {
      "text/plain": [
       "{'Felipe': 30,\n",
       " 'Fulana': 18,\n",
       " 'Maria': 55,\n",
       " 'Jose': 80,\n",
       " 'valores': [1, 3.5, 400, 5, 6],\n",
       " 'pesos': {'Felipe': 68, 'Fulana': 55}}"
      ]
     },
     "execution_count": 38,
     "metadata": {},
     "output_type": "execute_result"
    }
   ],
   "source": [
    "pessoas"
   ]
  },
  {
   "cell_type": "markdown",
   "metadata": {
    "colab_type": "text",
    "id": "I25skXQ4VRy8"
   },
   "source": [
    "- Acessando o valor a partir de uma chave"
   ]
  },
  {
   "cell_type": "code",
   "execution_count": 39,
   "metadata": {
    "colab": {},
    "colab_type": "code",
    "id": "_xqxMmMaVRy8"
   },
   "outputs": [
    {
     "data": {
      "text/plain": [
       "80"
      ]
     },
     "execution_count": 39,
     "metadata": {},
     "output_type": "execute_result"
    }
   ],
   "source": [
    "pessoas['Jose']"
   ]
  },
  {
   "cell_type": "code",
   "execution_count": 40,
   "metadata": {
    "colab": {},
    "colab_type": "code",
    "id": "h50fEaktVRzA"
   },
   "outputs": [
    {
     "data": {
      "text/plain": [
       "{'Felipe': 68, 'Fulana': 55}"
      ]
     },
     "execution_count": 40,
     "metadata": {},
     "output_type": "execute_result"
    }
   ],
   "source": [
    "pessoas['pesos']"
   ]
  },
  {
   "cell_type": "markdown",
   "metadata": {
    "colab_type": "text",
    "id": "3jknmuv3VRzC"
   },
   "source": [
    "- Dicionario Aninhado"
   ]
  },
  {
   "cell_type": "code",
   "execution_count": 41,
   "metadata": {
    "colab": {},
    "colab_type": "code",
    "id": "rdufFwIvVRzD"
   },
   "outputs": [],
   "source": [
    "pessoas = {\n",
    "'Felipe': {'Idade':30,'Cidade':'Belo Horizonte','Peso':65},\n",
    "'valores':[1,3.5,400,5,6],\n",
    "}"
   ]
  },
  {
   "cell_type": "code",
   "execution_count": 42,
   "metadata": {
    "colab": {},
    "colab_type": "code",
    "id": "jkB5jYvKVRzG"
   },
   "outputs": [
    {
     "data": {
      "text/plain": [
       "{'Felipe': {'Idade': 30, 'Cidade': 'Belo Horizonte', 'Peso': 65},\n",
       " 'valores': [1, 3.5, 400, 5, 6]}"
      ]
     },
     "execution_count": 42,
     "metadata": {},
     "output_type": "execute_result"
    }
   ],
   "source": [
    "pessoas"
   ]
  },
  {
   "cell_type": "code",
   "execution_count": 43,
   "metadata": {
    "colab": {},
    "colab_type": "code",
    "id": "OBP6fAELVRzI"
   },
   "outputs": [
    {
     "data": {
      "text/plain": [
       "'Belo Horizonte'"
      ]
     },
     "execution_count": 43,
     "metadata": {},
     "output_type": "execute_result"
    }
   ],
   "source": [
    "pessoas['Felipe']['Cidade']"
   ]
  },
  {
   "cell_type": "code",
   "execution_count": 44,
   "metadata": {
    "colab": {},
    "colab_type": "code",
    "id": "tlmD0rNyVRzM"
   },
   "outputs": [
    {
     "data": {
      "text/plain": [
       "65"
      ]
     },
     "execution_count": 44,
     "metadata": {},
     "output_type": "execute_result"
    }
   ],
   "source": [
    "pessoas['Felipe']['Peso']"
   ]
  },
  {
   "cell_type": "code",
   "execution_count": 45,
   "metadata": {
    "colab": {},
    "colab_type": "code",
    "id": "2Gwj0cykVRzO"
   },
   "outputs": [],
   "source": [
    "Cadastro_pessoas = {\n",
    "'Clientes': {'Cliente_01': {'Nome':'Rodrigo',\n",
    "                            'Idade':30,\n",
    "                            'Cidade':'Belo Horizonte',\n",
    "                            'Peso':65\n",
    "                           },\n",
    "             'Cliente_02': {'Nome': 'Felipe',\n",
    "                            'e-mail': 'felipe10@gmail.com'   \n",
    "                           },\n",
    "            },\n",
    "'valores':[1,3.5,400,5,6]}"
   ]
  },
  {
   "cell_type": "code",
   "execution_count": 46,
   "metadata": {
    "colab": {},
    "colab_type": "code",
    "id": "r7TKvaUjVRzQ"
   },
   "outputs": [
    {
     "data": {
      "text/plain": [
       "'Belo Horizonte'"
      ]
     },
     "execution_count": 46,
     "metadata": {},
     "output_type": "execute_result"
    }
   ],
   "source": [
    "Cadastro_pessoas['Clientes']['Cliente_01']['Cidade']"
   ]
  },
  {
   "cell_type": "code",
   "execution_count": 48,
   "metadata": {
    "colab": {},
    "colab_type": "code",
    "id": "gKD7oEr-VRzS"
   },
   "outputs": [
    {
     "data": {
      "text/plain": [
       "{'Nome': 'Felipe', 'e-mail': 'felipe10@gmail.com'}"
      ]
     },
     "execution_count": 48,
     "metadata": {},
     "output_type": "execute_result"
    }
   ],
   "source": [
    "Cadastro_pessoas['Clientes']['Cliente_02']"
   ]
  },
  {
   "cell_type": "markdown",
   "metadata": {
    "colab_type": "text",
    "id": "dVetCIzWVRzT"
   },
   "source": [
    "**Métodos**"
   ]
  },
  {
   "cell_type": "markdown",
   "metadata": {
    "colab_type": "text",
    "id": "5YYcrVF9VRzU"
   },
   "source": [
    "- keys() – Retorna as chaves do dicionário"
   ]
  },
  {
   "cell_type": "code",
   "execution_count": 50,
   "metadata": {
    "colab": {},
    "colab_type": "code",
    "id": "0hyoe5icVRzV"
   },
   "outputs": [
    {
     "data": {
      "text/plain": [
       "{'Felipe': {'Idade': 30, 'Cidade': 'Belo Horizonte', 'Peso': 65},\n",
       " 'valores': [1, 3.5, 400, 5, 6]}"
      ]
     },
     "execution_count": 50,
     "metadata": {},
     "output_type": "execute_result"
    }
   ],
   "source": [
    "pessoas"
   ]
  },
  {
   "cell_type": "code",
   "execution_count": 49,
   "metadata": {
    "colab": {},
    "colab_type": "code",
    "id": "9a0Eg3tfVRzZ"
   },
   "outputs": [
    {
     "data": {
      "text/plain": [
       "dict_keys(['Felipe', 'valores'])"
      ]
     },
     "execution_count": 49,
     "metadata": {},
     "output_type": "execute_result"
    }
   ],
   "source": [
    "pessoas.keys()"
   ]
  },
  {
   "cell_type": "markdown",
   "metadata": {
    "colab_type": "text",
    "id": "ke7R0AHVVRza"
   },
   "source": [
    "- values() - Retorna os valores do dicionário"
   ]
  },
  {
   "cell_type": "code",
   "execution_count": 51,
   "metadata": {
    "colab": {},
    "colab_type": "code",
    "id": "YayfSvJ0VRzb"
   },
   "outputs": [
    {
     "data": {
      "text/plain": [
       "dict_values([{'Idade': 30, 'Cidade': 'Belo Horizonte', 'Peso': 65}, [1, 3.5, 400, 5, 6]])"
      ]
     },
     "execution_count": 51,
     "metadata": {},
     "output_type": "execute_result"
    }
   ],
   "source": [
    "pessoas.values()"
   ]
  },
  {
   "cell_type": "markdown",
   "metadata": {
    "colab_type": "text",
    "id": "VRuoPSnhVRzd"
   },
   "source": [
    "- get() – Retorna o valor de uma determinada chave senão existir retorna o valor passado como parâmetro"
   ]
  },
  {
   "cell_type": "code",
   "execution_count": 52,
   "metadata": {
    "colab": {},
    "colab_type": "code",
    "id": "OHc7FdaPVRzg"
   },
   "outputs": [
    {
     "data": {
      "text/plain": [
       "'Não existe'"
      ]
     },
     "execution_count": 52,
     "metadata": {},
     "output_type": "execute_result"
    }
   ],
   "source": [
    "pessoas.get('Juca','Não existe')"
   ]
  },
  {
   "cell_type": "markdown",
   "metadata": {
    "colab_type": "text",
    "id": "d3Myz8yBVRzi"
   },
   "source": [
    "- setdefault() - Retorna o valor da chave caso ela exista, senão inseri a chave e o valor no dicionário"
   ]
  },
  {
   "cell_type": "code",
   "execution_count": 53,
   "metadata": {
    "colab": {},
    "colab_type": "code",
    "id": "nzbctVn2VRzi"
   },
   "outputs": [
    {
     "data": {
      "text/plain": [
       "{'Idade': 30, 'Cidade': 'Belo Horizonte', 'Peso': 65}"
      ]
     },
     "execution_count": 53,
     "metadata": {},
     "output_type": "execute_result"
    }
   ],
   "source": [
    "pessoas.setdefault('Felipe',40)"
   ]
  },
  {
   "cell_type": "code",
   "execution_count": 54,
   "metadata": {
    "colab": {},
    "colab_type": "code",
    "id": "-DI2gz3WVRzl"
   },
   "outputs": [
    {
     "data": {
      "text/plain": [
       "{'Felipe': {'Idade': 30, 'Cidade': 'Belo Horizonte', 'Peso': 65},\n",
       " 'valores': [1, 3.5, 400, 5, 6]}"
      ]
     },
     "execution_count": 54,
     "metadata": {},
     "output_type": "execute_result"
    }
   ],
   "source": [
    "pessoas"
   ]
  },
  {
   "cell_type": "code",
   "execution_count": 55,
   "metadata": {
    "colab": {},
    "colab_type": "code",
    "id": "s6ZH4ZE2VRzm"
   },
   "outputs": [
    {
     "data": {
      "text/plain": [
       "30"
      ]
     },
     "execution_count": 55,
     "metadata": {},
     "output_type": "execute_result"
    }
   ],
   "source": [
    "pessoas.setdefault('Marcos',30)"
   ]
  },
  {
   "cell_type": "markdown",
   "metadata": {
    "colab_type": "text",
    "id": "MNBNwwBpVRzo"
   },
   "source": [
    "- items() – Retorna itens e valores"
   ]
  },
  {
   "cell_type": "code",
   "execution_count": 56,
   "metadata": {
    "colab": {},
    "colab_type": "code",
    "id": "ldWr-N2UVRzo"
   },
   "outputs": [
    {
     "data": {
      "text/plain": [
       "dict_items([('Felipe', {'Idade': 30, 'Cidade': 'Belo Horizonte', 'Peso': 65}), ('valores', [1, 3.5, 400, 5, 6]), ('Marcos', 30)])"
      ]
     },
     "execution_count": 56,
     "metadata": {},
     "output_type": "execute_result"
    }
   ],
   "source": [
    "pessoas.items()"
   ]
  },
  {
   "cell_type": "markdown",
   "metadata": {
    "colab_type": "text",
    "id": "4s2Y7WX9VRzr"
   },
   "source": [
    "- clear() – Limpa o objeto dicionário"
   ]
  },
  {
   "cell_type": "code",
   "execution_count": 57,
   "metadata": {
    "colab": {},
    "colab_type": "code",
    "id": "Rj_C7Y11VRzr"
   },
   "outputs": [],
   "source": [
    "pessoas.clear()"
   ]
  },
  {
   "cell_type": "code",
   "execution_count": 58,
   "metadata": {
    "colab": {},
    "colab_type": "code",
    "id": "mmiFp052VRzu"
   },
   "outputs": [
    {
     "data": {
      "text/plain": [
       "{}"
      ]
     },
     "execution_count": 58,
     "metadata": {},
     "output_type": "execute_result"
    }
   ],
   "source": [
    "pessoas"
   ]
  },
  {
   "cell_type": "markdown",
   "metadata": {
    "colab_type": "text",
    "id": "dfb_q8_HVRzw"
   },
   "source": [
    "### Estruturas Condicionais e Loops ###"
   ]
  },
  {
   "cell_type": "markdown",
   "metadata": {
    "colab_type": "text",
    "id": "3VLg0K_DVRzy"
   },
   "source": [
    "**Controles de fluxo**"
   ]
  },
  {
   "cell_type": "markdown",
   "metadata": {
    "colab_type": "text",
    "id": "Xx2obNBeVRzz"
   },
   "source": [
    "**Sintaxe**<br>\n",
    "**if <condição>:** \n",
    ">**instruções**"
   ]
  },
  {
   "cell_type": "code",
   "execution_count": 60,
   "metadata": {
    "colab": {},
    "colab_type": "code",
    "id": "o8Q-YaeOVRz0"
   },
   "outputs": [],
   "source": [
    "if 1 > 10:\n",
    "    print('O numero 10 é maior que 1')"
   ]
  },
  {
   "cell_type": "markdown",
   "metadata": {
    "colab_type": "text",
    "id": "8_1vhB6BVRz1"
   },
   "source": [
    "**Sintaxe**<br>\n",
    "**if <condição>:** \n",
    ">**instruções**\n",
    "\n",
    "**else:**\n",
    ">**instruções**"
   ]
  },
  {
   "cell_type": "code",
   "execution_count": 61,
   "metadata": {
    "colab": {},
    "colab_type": "code",
    "id": "L25bMlhAVRz2"
   },
   "outputs": [
    {
     "name": "stdout",
     "output_type": "stream",
     "text": [
      "O numero em Y é maior que X\n"
     ]
    }
   ],
   "source": [
    "x=1\n",
    "y=10\n",
    "\n",
    "if x > y:\n",
    "    print(\"O numero em X é maior que Y\")\n",
    "else:\n",
    "    print('O numero em Y é maior que X')"
   ]
  },
  {
   "cell_type": "markdown",
   "metadata": {
    "colab_type": "text",
    "id": "MIyP3o6-VRz8"
   },
   "source": [
    "**Trabalhando com loops FOR**"
   ]
  },
  {
   "cell_type": "markdown",
   "metadata": {
    "colab_type": "text",
    "id": "kExDCM_TVRz9"
   },
   "source": [
    "** Sintaxe: for <variável> in <condição>: instruções **"
   ]
  },
  {
   "cell_type": "markdown",
   "metadata": {
    "colab_type": "text",
    "id": "_vh_K0U9VRz_"
   },
   "source": [
    "- Loop em elementos de uma lista"
   ]
  },
  {
   "cell_type": "code",
   "execution_count": 62,
   "metadata": {
    "colab": {},
    "colab_type": "code",
    "id": "LPCgeSYmVRz_"
   },
   "outputs": [
    {
     "name": "stdout",
     "output_type": "stream",
     "text": [
      "Valor: 1\n",
      "3\n",
      "Valor: 2\n",
      "4\n",
      "Valor: 3\n",
      "5\n",
      "Valor: 4\n",
      "6\n",
      "Valor: 5\n",
      "7\n"
     ]
    }
   ],
   "source": [
    "for i in [1,2,3,4,5]:\n",
    "    print (\"Valor: %s\" %i)\n",
    "    print (i + 2)"
   ]
  },
  {
   "cell_type": "markdown",
   "metadata": {
    "colab_type": "text",
    "id": "mn9oGI-wVR0B"
   },
   "source": [
    "- Loop em elementos de uma string"
   ]
  },
  {
   "cell_type": "code",
   "execution_count": 63,
   "metadata": {
    "colab": {},
    "colab_type": "code",
    "id": "wEZ7Og0EVR0C"
   },
   "outputs": [
    {
     "name": "stdout",
     "output_type": "stream",
     "text": [
      "P\n",
      "y\n",
      "t\n",
      "h\n",
      "o\n",
      "n\n",
      " \n",
      "é\n",
      " \n",
      "u\n",
      "m\n",
      "a\n",
      " \n",
      "l\n",
      "i\n",
      "n\n",
      "g\n",
      "u\n",
      "a\n",
      "g\n",
      "e\n",
      "m\n",
      " \n",
      "d\n",
      "e\n",
      " \n",
      "p\n",
      "r\n",
      "o\n",
      "g\n",
      "r\n",
      "a\n",
      "m\n",
      "a\n",
      "ç\n",
      "ã\n",
      "o\n"
     ]
    }
   ],
   "source": [
    "for c in \"Python é uma linguagem de programação\":\n",
    "    print (c)"
   ]
  },
  {
   "cell_type": "markdown",
   "metadata": {
    "colab_type": "text",
    "id": "wt5Uxo3WVR0G"
   },
   "source": [
    "**Loops FOR aninhados**"
   ]
  },
  {
   "cell_type": "markdown",
   "metadata": {
    "colab_type": "text",
    "id": "qUgQAMvrVR0G"
   },
   "source": [
    "**Sintaxe**<br>\n",
    "**for <variável> in <condição>:** \n",
    ">**instruções**<br>\n",
    ">**for <variável> in <condição>:**\n",
    ">>**instruções**"
   ]
  },
  {
   "cell_type": "code",
   "execution_count": 64,
   "metadata": {
    "colab": {},
    "colab_type": "code",
    "id": "E0W8pPZNVR0H"
   },
   "outputs": [
    {
     "name": "stdout",
     "output_type": "stream",
     "text": [
      "1a Fase\n",
      "manha\n",
      "tarde\n",
      "noite\n",
      " \n",
      "2a Fase\n",
      "manha\n",
      "tarde\n",
      "noite\n",
      " \n",
      "3a Fase\n",
      "manha\n",
      "tarde\n",
      "noite\n",
      " \n"
     ]
    }
   ],
   "source": [
    "for i in ['1a Fase','2a Fase','3a Fase']:\n",
    "    print (i)\n",
    "    for y in ['manha','tarde','noite']:\n",
    "        print (y)\n",
    "    print(' ')"
   ]
  },
  {
   "cell_type": "markdown",
   "metadata": {
    "colab_type": "text",
    "id": "UWv53K-vVR0J"
   },
   "source": [
    "**Loops com While**"
   ]
  },
  {
   "cell_type": "markdown",
   "metadata": {
    "colab_type": "text",
    "id": "nUf5dCTJVR0K"
   },
   "source": [
    "**Sintaxe**<br>\n",
    "**while <condição>: **\n",
    ">**instruções**"
   ]
  },
  {
   "cell_type": "code",
   "execution_count": 65,
   "metadata": {
    "colab": {},
    "colab_type": "code",
    "id": "ytgkQJkKVR0K"
   },
   "outputs": [
    {
     "name": "stdout",
     "output_type": "stream",
     "text": [
      "0\n",
      "1\n",
      "2\n",
      "3\n",
      "4\n",
      "5\n",
      "6\n",
      "7\n",
      "8\n",
      "9\n"
     ]
    }
   ],
   "source": [
    "i = 0\n",
    "while i < 10:\n",
    "    print (i)\n",
    "    i = i + 1"
   ]
  },
  {
   "cell_type": "markdown",
   "metadata": {
    "colab_type": "text",
    "id": "IDjdSkSEVR0M"
   },
   "source": [
    "**Loops while com instrução else**"
   ]
  },
  {
   "cell_type": "markdown",
   "metadata": {
    "colab_type": "text",
    "id": "MRytSaviVR0M"
   },
   "source": [
    "**Sintaxe**<br>\n",
    "**while <condição>:**\n",
    ">**instruções**\n",
    "\n",
    "**else:**\n",
    ">**instruções**\n",
    "\n"
   ]
  },
  {
   "cell_type": "code",
   "execution_count": 66,
   "metadata": {
    "colab": {},
    "colab_type": "code",
    "id": "A11P0CuYVR0N"
   },
   "outputs": [
    {
     "name": "stdout",
     "output_type": "stream",
     "text": [
      "0\n",
      "1\n",
      "2\n",
      "3\n",
      "4\n",
      "5\n",
      "6\n",
      "7\n",
      "8\n",
      "9\n",
      "Numero é maior ou igual a 10\n"
     ]
    }
   ],
   "source": [
    "i = 0\n",
    "while i < 10:\n",
    "    print (i)\n",
    "    i = i + 1\n",
    "else:\n",
    "    print(\"Numero é maior ou igual a 10\")"
   ]
  },
  {
   "cell_type": "code",
   "execution_count": null,
   "metadata": {},
   "outputs": [],
   "source": []
  }
 ],
 "metadata": {
  "colab": {
   "collapsed_sections": [
    "F0xyxC4pVRyz"
   ],
   "name": "me-linguagem-python-02.ipynb",
   "provenance": [],
   "version": "0.3.2"
  },
  "kernelspec": {
   "display_name": "Python 3",
   "language": "python",
   "name": "python3"
  },
  "language_info": {
   "codemirror_mode": {
    "name": "ipython",
    "version": 3
   },
   "file_extension": ".py",
   "mimetype": "text/x-python",
   "name": "python",
   "nbconvert_exporter": "python",
   "pygments_lexer": "ipython3",
   "version": "3.7.0"
  }
 },
 "nbformat": 4,
 "nbformat_minor": 1
}
