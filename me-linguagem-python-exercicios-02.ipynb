{
 "cells": [
  {
   "cell_type": "markdown",
   "metadata": {
    "colab_type": "text",
    "id": "UPLstzLNVDpY"
   },
   "source": [
    "# Mentoria Evolution - Exercícios Python "
   ]
  },
  {
   "cell_type": "markdown",
   "metadata": {
    "colab_type": "text",
    "id": "z_X19uXkVDpa"
   },
   "source": [
    "https://minerandodados.com.br"
   ]
  },
  {
   "cell_type": "markdown",
   "metadata": {
    "colab_type": "text",
    "id": "Vwr7asUXVDpb"
   },
   "source": [
    "* Para executar uma célula digite **Control + enter** ou clique em **Run**.\n",
    "* As celulas para rodar script Python devem ser do tipo code.\n",
    "* Crie células abaixo das celulas que foram escrito o enunciado das questões com as respostas."
   ]
  },
  {
   "cell_type": "markdown",
   "metadata": {
    "colab_type": "text",
    "id": "6PVti8DFVDpb"
   },
   "source": [
    "**Obs**: Caso de dúvidas, volte na aula anterior de Python. Não desista :)"
   ]
  },
  {
   "cell_type": "markdown",
   "metadata": {
    "colab_type": "text",
    "id": "Mp7r3rkCVDpc"
   },
   "source": [
    "## Exercícios de Fixação"
   ]
  },
  {
   "cell_type": "markdown",
   "metadata": {
    "colab_type": "text",
    "id": "JtEQMWGUVDpd"
   },
   "source": [
    "1) Responda: É possível ter elementos de tipos difentes em uma mesma lista? Exemplo: strings e números?"
   ]
  },
  {
   "cell_type": "code",
   "execution_count": null,
   "metadata": {},
   "outputs": [],
   "source": [
    "Sim"
   ]
  },
  {
   "cell_type": "markdown",
   "metadata": {
    "colab_type": "text",
    "id": "IVKrUTCQVDpe"
   },
   "source": [
    "2) Trabalhando com Listas, faça:\n",
    "- a) Cria uma lista de valores inteiros com o **nome** e **idades**.\n",
    "- b) Imprima apenas segundo elemento da lista.\n",
    "- c) Imprima a quantidade de elementos da lista.\n",
    "- d) Substitua o valor do segundo elemento da lista e imprima o resultado.\n",
    "- e) Imprima apenas os valores do segundo elemento em diante.\n",
    "- f) Remova qualquer elemento da lista e imprima o resultado.\n",
    "- g) Defina uma lista chamada salarios com os valores : **900,1200,1500,800,12587,10000**.\n",
    "- h) Verifique se contém o valor 10000 na lista de salarios.\n",
    "- i) Imprima o menor e maior valor da lista.\n",
    "- j) Adicione o valor 7000 a lista.\n",
    "- l) Extenda a lista com dois novos elementos utilizando apenas um método.\n",
    "- m) Imprima o índice do elemento de valor 800 da lista de salarios.\n",
    "- n) Faça uma ordenação dos valores da lista de salarios em ordem crescente e decrescente."
   ]
  },
  {
   "cell_type": "code",
   "execution_count": 2,
   "metadata": {},
   "outputs": [],
   "source": [
    "# a)\n",
    "nome = ['joana','maria','susi','derlei']"
   ]
  },
  {
   "cell_type": "code",
   "execution_count": 3,
   "metadata": {},
   "outputs": [
    {
     "data": {
      "text/plain": [
       "'maria'"
      ]
     },
     "execution_count": 3,
     "metadata": {},
     "output_type": "execute_result"
    }
   ],
   "source": [
    "# b)\n",
    "nome [1]"
   ]
  },
  {
   "cell_type": "code",
   "execution_count": 8,
   "metadata": {},
   "outputs": [
    {
     "data": {
      "text/plain": [
       "4"
      ]
     },
     "execution_count": 8,
     "metadata": {},
     "output_type": "execute_result"
    }
   ],
   "source": [
    "# c)\n",
    "len(nome)"
   ]
  },
  {
   "cell_type": "code",
   "execution_count": 9,
   "metadata": {},
   "outputs": [
    {
     "data": {
      "text/plain": [
       "['joana', 'Antônio', 'susi', 'derlei']"
      ]
     },
     "execution_count": 9,
     "metadata": {},
     "output_type": "execute_result"
    }
   ],
   "source": [
    "# d)\n",
    "nome[1] = 'Antônio'\n",
    "nome"
   ]
  },
  {
   "cell_type": "code",
   "execution_count": 10,
   "metadata": {},
   "outputs": [
    {
     "data": {
      "text/plain": [
       "['Antônio', 'susi', 'derlei']"
      ]
     },
     "execution_count": 10,
     "metadata": {},
     "output_type": "execute_result"
    }
   ],
   "source": [
    "# e)\n",
    "nome [1:]"
   ]
  },
  {
   "cell_type": "code",
   "execution_count": 11,
   "metadata": {},
   "outputs": [
    {
     "data": {
      "text/plain": [
       "['joana', 'Antônio', 'susi']"
      ]
     },
     "execution_count": 11,
     "metadata": {},
     "output_type": "execute_result"
    }
   ],
   "source": [
    "#f) \n",
    "nome.remove('derlei')\n",
    "nome "
   ]
  },
  {
   "cell_type": "code",
   "execution_count": 12,
   "metadata": {},
   "outputs": [],
   "source": [
    "# g)\n",
    "\n",
    "salarios = [900,1200,1500,800,12587,10000]"
   ]
  },
  {
   "cell_type": "code",
   "execution_count": 13,
   "metadata": {},
   "outputs": [
    {
     "data": {
      "text/plain": [
       "True"
      ]
     },
     "execution_count": 13,
     "metadata": {},
     "output_type": "execute_result"
    }
   ],
   "source": [
    "# h)\n",
    "10000 in salarios"
   ]
  },
  {
   "cell_type": "code",
   "execution_count": 16,
   "metadata": {},
   "outputs": [
    {
     "data": {
      "text/plain": [
       "800"
      ]
     },
     "execution_count": 16,
     "metadata": {},
     "output_type": "execute_result"
    }
   ],
   "source": [
    "# i) \n",
    "max(salarios)\n",
    "min(salarios)"
   ]
  },
  {
   "cell_type": "code",
   "execution_count": 17,
   "metadata": {},
   "outputs": [],
   "source": [
    "# J)\n",
    "salarios.append(7000)"
   ]
  },
  {
   "cell_type": "code",
   "execution_count": 20,
   "metadata": {},
   "outputs": [
    {
     "data": {
      "text/plain": [
       "[900, 1200, 1500, 800, 12587, 10000, 7000, 896, 1520]"
      ]
     },
     "execution_count": 20,
     "metadata": {},
     "output_type": "execute_result"
    }
   ],
   "source": [
    "# i) \n",
    "salarios + [896 ,1520]"
   ]
  },
  {
   "cell_type": "code",
   "execution_count": 22,
   "metadata": {},
   "outputs": [
    {
     "data": {
      "text/plain": [
       "3"
      ]
     },
     "execution_count": 22,
     "metadata": {},
     "output_type": "execute_result"
    }
   ],
   "source": [
    "# m)\n",
    "salarios.index(800)"
   ]
  },
  {
   "cell_type": "code",
   "execution_count": 27,
   "metadata": {},
   "outputs": [
    {
     "data": {
      "text/plain": [
       "[12587, 10000, 7000, 1500, 1200, 900, 800]"
      ]
     },
     "execution_count": 27,
     "metadata": {},
     "output_type": "execute_result"
    }
   ],
   "source": [
    "# n)\n",
    "salarios.sort()\n",
    "salarios\n",
    "salarios.sort(reverse =True)\n",
    "salarios"
   ]
  },
  {
   "cell_type": "markdown",
   "metadata": {
    "colab_type": "text",
    "id": "qKGzZTLAVDpf"
   },
   "source": [
    "3) Trabalhando com dicionários:\n",
    "- a) Crie um dicionário para armazenar o nome e a idade de pessoas, Exemplo:\n",
    "    pessoas = {'Rodrigo':30, 'Fulana':18}\n",
    "- b) Imprima a idade da pessoa \"Fulana\"\n",
    "- c) Imprima as Chaves do dicionario criado anteriormente.\n",
    "- d) Imprima os valores das chaves do dicionário\n",
    "- e) Busque a chave \"Felipe\" se ela não existe insira esta e o valor 30 (obs: use o método setdefault())"
   ]
  },
  {
   "cell_type": "code",
   "execution_count": 28,
   "metadata": {},
   "outputs": [],
   "source": [
    "# a)\n",
    "\n",
    "dic1 = {'Rodrigo':30 ,'Joana':25 ,'Susi':19 ,'Celeste':43,'Otavio':35}"
   ]
  },
  {
   "cell_type": "code",
   "execution_count": 29,
   "metadata": {},
   "outputs": [
    {
     "data": {
      "text/plain": [
       "25"
      ]
     },
     "execution_count": 29,
     "metadata": {},
     "output_type": "execute_result"
    }
   ],
   "source": [
    "# b)\n",
    "dic1['Joana']"
   ]
  },
  {
   "cell_type": "code",
   "execution_count": 30,
   "metadata": {},
   "outputs": [
    {
     "data": {
      "text/plain": [
       "dict_keys(['Rodrigo', 'Joana', 'Susi', 'Celeste', 'Otavio'])"
      ]
     },
     "execution_count": 30,
     "metadata": {},
     "output_type": "execute_result"
    }
   ],
   "source": [
    "# c)\n",
    "dic1.keys()\n"
   ]
  },
  {
   "cell_type": "code",
   "execution_count": 31,
   "metadata": {},
   "outputs": [
    {
     "data": {
      "text/plain": [
       "dict_values([30, 25, 19, 43, 35])"
      ]
     },
     "execution_count": 31,
     "metadata": {},
     "output_type": "execute_result"
    }
   ],
   "source": [
    "# d) \n",
    "dic1.values()"
   ]
  },
  {
   "cell_type": "code",
   "execution_count": 33,
   "metadata": {},
   "outputs": [
    {
     "data": {
      "text/plain": [
       "30"
      ]
     },
     "execution_count": 33,
     "metadata": {},
     "output_type": "execute_result"
    }
   ],
   "source": [
    "# e)\n",
    "dic1.setdefault('Felipe',30)"
   ]
  },
  {
   "cell_type": "markdown",
   "metadata": {
    "colab_type": "text",
    "id": "z9gifpJ3VDpg"
   },
   "source": [
    "4) Estruturas condicionais:\n",
    "- a) Verifique se 5 é maior que 1, se sim, imprima \"5 é maior que 1\"\n",
    "- b) crie as variávies x1 e y1, defina dois valores quaisquer para as duas variáveis. \n",
    "  Verifique se x1 é maior que y1. Se sim, imprima \"x1 é maior que y1\", senão imprima: \"y1 é maior que x1\"\n",
    "- c) Crie uma lista de valores como [2,3,4,5,6,7] e faça um loop para imprimir todos os valores na tela multiplicados por 2."
   ]
  },
  {
   "cell_type": "code",
   "execution_count": 34,
   "metadata": {},
   "outputs": [
    {
     "name": "stdout",
     "output_type": "stream",
     "text": [
      "5 é maior que 1!\n"
     ]
    }
   ],
   "source": [
    "# a)\n",
    "\n",
    "if 5 > 1 :\n",
    "    print('5 é maior que 1!')"
   ]
  },
  {
   "cell_type": "code",
   "execution_count": 39,
   "metadata": {},
   "outputs": [
    {
     "name": "stdout",
     "output_type": "stream",
     "text": [
      "y1 é maior que x1\n"
     ]
    }
   ],
   "source": [
    "# b)\n",
    "x1 = 12\n",
    "y1 = 25\n",
    "\n",
    "if x1 > y1:\n",
    "    print('x1 é maior que y1')\n",
    "else:\n",
    "    print('y1 é maior que x1')\n",
    "    "
   ]
  },
  {
   "cell_type": "code",
   "execution_count": 41,
   "metadata": {},
   "outputs": [
    {
     "name": "stdout",
     "output_type": "stream",
     "text": [
      "4\n",
      "6\n",
      "8\n",
      "10\n",
      "12\n",
      "14\n"
     ]
    }
   ],
   "source": [
    "# c\n",
    "list2 = [2,3,4,5,6,7]\n",
    "\n",
    "for x in  list2:\n",
    "    print (x *2)"
   ]
  }
 ],
 "metadata": {
  "colab": {
   "collapsed_sections": [],
   "name": "me-linguagem-python-exercicios-02.ipynb",
   "provenance": [],
   "version": "0.3.2"
  },
  "kernelspec": {
   "display_name": "Python 3",
   "language": "python",
   "name": "python3"
  },
  "language_info": {
   "codemirror_mode": {
    "name": "ipython",
    "version": 3
   },
   "file_extension": ".py",
   "mimetype": "text/x-python",
   "name": "python",
   "nbconvert_exporter": "python",
   "pygments_lexer": "ipython3",
   "version": "3.7.0"
  }
 },
 "nbformat": 4,
 "nbformat_minor": 1
}
